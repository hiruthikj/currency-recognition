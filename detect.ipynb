{
 "cells": [
  {
   "cell_type": "code",
   "execution_count": 7,
   "metadata": {},
   "outputs": [],
   "source": [
    "import glob\n",
    "import os"
   ]
  },
  {
   "cell_type": "code",
   "execution_count": 11,
   "metadata": {},
   "outputs": [
    {
     "data": {
      "text/plain": [
       "'/home/hiruthik/proj/currency-detector-opencv/files'"
      ]
     },
     "execution_count": 11,
     "metadata": {},
     "output_type": "execute_result"
    }
   ],
   "source": [
    "# os.chdir('files/')\n",
    "os.getcwd()"
   ]
  },
  {
   "cell_type": "code",
   "execution_count": 12,
   "metadata": {},
   "outputs": [],
   "source": [
    "mylist = [f for f in glob.glob(\"*.jpg\")]"
   ]
  },
  {
   "cell_type": "code",
   "execution_count": 13,
   "metadata": {},
   "outputs": [
    {
     "data": {
      "text/plain": [
       "['test_100_1.jpg',\n",
       " 'test_500_2.jpg',\n",
       " '20.jpg',\n",
       " '100_3.jpg',\n",
       " '500.jpg',\n",
       " 'test_100_2.jpg',\n",
       " '50.jpg',\n",
       " 'test_20_4.jpg',\n",
       " 'test_100_3.jpg',\n",
       " '100.jpg',\n",
       " '100_2.jpg',\n",
       " 'test_20_1.jpg',\n",
       " 'test_500_1.jpg',\n",
       " 'test_50_2.jpg',\n",
       " 'test_20_3.jpg',\n",
       " 'test_50_1.jpg',\n",
       " 'test_20_2.jpg']"
      ]
     },
     "execution_count": 13,
     "metadata": {},
     "output_type": "execute_result"
    }
   ],
   "source": [
    "mylist"
   ]
  },
  {
   "cell_type": "code",
   "execution_count": null,
   "metadata": {},
   "outputs": [],
   "source": []
  }
 ],
 "metadata": {
  "kernelspec": {
   "display_name": "Python 3",
   "language": "python",
   "name": "python3"
  },
  "language_info": {
   "codemirror_mode": {
    "name": "ipython",
    "version": 3
   },
   "file_extension": ".py",
   "mimetype": "text/x-python",
   "name": "python",
   "nbconvert_exporter": "python",
   "pygments_lexer": "ipython3",
   "version": "3.8.5"
  }
 },
 "nbformat": 4,
 "nbformat_minor": 2
}
