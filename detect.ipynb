{
 "cells": [
  {
   "cell_type": "code",
   "execution_count": 3,
   "metadata": {},
   "outputs": [
    {
     "ename": "ImportError",
     "evalue": "numpy.core.multiarray failed to import",
     "output_type": "error",
     "traceback": [
      "\u001b[1;31m---------------------------------------------------------------------------\u001b[0m",
      "\u001b[1;31mImportError\u001b[0m                               Traceback (most recent call last)",
      "\u001b[1;31mImportError\u001b[0m: numpy.core.multiarray failed to import"
     ]
    },
    {
     "ename": "ImportError",
     "evalue": "numpy.core.multiarray failed to import",
     "output_type": "error",
     "traceback": [
      "\u001b[1;31m---------------------------------------------------------------------------\u001b[0m",
      "\u001b[1;31mImportError\u001b[0m                               Traceback (most recent call last)",
      "\u001b[1;32m<ipython-input-3-3bb085dea7ac>\u001b[0m in \u001b[0;36m<module>\u001b[1;34m\u001b[0m\n\u001b[1;32m----> 1\u001b[1;33m \u001b[1;32mfrom\u001b[0m \u001b[0mutils\u001b[0m \u001b[1;32mimport\u001b[0m \u001b[1;33m*\u001b[0m\u001b[1;33m\u001b[0m\u001b[1;33m\u001b[0m\u001b[0m\n\u001b[0m\u001b[0;32m      2\u001b[0m \u001b[1;31m# from matplotlib import pyplot as plt\u001b[0m\u001b[1;33m\u001b[0m\u001b[1;33m\u001b[0m\u001b[1;33m\u001b[0m\u001b[0m\n\u001b[0;32m      3\u001b[0m \u001b[1;32mimport\u001b[0m \u001b[0mos\u001b[0m\u001b[1;33m\u001b[0m\u001b[1;33m\u001b[0m\u001b[0m\n\u001b[0;32m      4\u001b[0m \u001b[1;33m\u001b[0m\u001b[0m\n\u001b[0;32m      5\u001b[0m \u001b[0mprint\u001b[0m\u001b[1;33m(\u001b[0m\u001b[1;34m'program started...'\u001b[0m\u001b[1;33m)\u001b[0m\u001b[1;33m\u001b[0m\u001b[1;33m\u001b[0m\u001b[0m\n",
      "\u001b[1;32mD:\\projects\\currency-detector-opencv\\utils.py\u001b[0m in \u001b[0;36m<module>\u001b[1;34m\u001b[0m\n\u001b[0;32m      8\u001b[0m \u001b[1;31m# contains utility functions\u001b[0m\u001b[1;33m\u001b[0m\u001b[1;33m\u001b[0m\u001b[1;33m\u001b[0m\u001b[0m\n\u001b[0;32m      9\u001b[0m \u001b[1;33m\u001b[0m\u001b[0m\n\u001b[1;32m---> 10\u001b[1;33m \u001b[1;32mimport\u001b[0m \u001b[0mcv2\u001b[0m\u001b[1;33m\u001b[0m\u001b[1;33m\u001b[0m\u001b[0m\n\u001b[0m\u001b[0;32m     11\u001b[0m \u001b[1;32mimport\u001b[0m \u001b[0mmath\u001b[0m\u001b[1;33m\u001b[0m\u001b[1;33m\u001b[0m\u001b[0m\n\u001b[0;32m     12\u001b[0m \u001b[1;32mimport\u001b[0m \u001b[0mnumpy\u001b[0m \u001b[1;32mas\u001b[0m \u001b[0mnp\u001b[0m\u001b[1;33m\u001b[0m\u001b[1;33m\u001b[0m\u001b[0m\n",
      "\u001b[1;32m~\\AppData\\Roaming\\Python\\Python37\\site-packages\\cv2\\__init__.py\u001b[0m in \u001b[0;36m<module>\u001b[1;34m\u001b[0m\n\u001b[0;32m      3\u001b[0m \u001b[1;32mimport\u001b[0m \u001b[0msys\u001b[0m\u001b[1;33m\u001b[0m\u001b[1;33m\u001b[0m\u001b[0m\n\u001b[0;32m      4\u001b[0m \u001b[1;33m\u001b[0m\u001b[0m\n\u001b[1;32m----> 5\u001b[1;33m \u001b[1;32mfrom\u001b[0m \u001b[1;33m.\u001b[0m\u001b[0mcv2\u001b[0m \u001b[1;32mimport\u001b[0m \u001b[1;33m*\u001b[0m\u001b[1;33m\u001b[0m\u001b[1;33m\u001b[0m\u001b[0m\n\u001b[0m\u001b[0;32m      6\u001b[0m \u001b[1;32mfrom\u001b[0m \u001b[1;33m.\u001b[0m\u001b[0mdata\u001b[0m \u001b[1;32mimport\u001b[0m \u001b[1;33m*\u001b[0m\u001b[1;33m\u001b[0m\u001b[1;33m\u001b[0m\u001b[0m\n\u001b[0;32m      7\u001b[0m \u001b[1;33m\u001b[0m\u001b[0m\n",
      "\u001b[1;31mImportError\u001b[0m: numpy.core.multiarray failed to import"
     ]
    }
   ],
   "source": [
    "from utils import *\n",
    "# from matplotlib import pyplot as plt\n",
    "import os\n",
    "\n",
    "print('program started...')\n",
    "\n",
    "max_val = 8\n",
    "max_pt = -1\n",
    "max_kp = 0\n",
    "\n",
    "orb = cv2.ORB_create()\n",
    "# orb is an alternative to SIFT\n",
    "\n",
    "#test_img = read_img('files/test_100_2.jpg')\n",
    "#test_img = read_img('files/test_50_2.jpg')\n",
    "test_img = read_img('files/test_20_2.jpg')\n",
    "#test_img = read_img('files/test_100_3.jpg')\n",
    "#test_img = read_img('files/test_20_4.jpg')\n",
    "\n",
    "# resizing must be dynamic\n",
    "original = resize_img(test_img, 0.4)\n",
    "display('original', original)\n",
    "\n",
    "# keypoints and descriptors\n",
    "# (kp1, des1) = orb.detectAndCompute(test_img, None)\n",
    "(kp1, des1) = orb.detectAndCompute(test_img, None)\n",
    "\n",
    "training_set = ['files/20.jpg', 'files/50.jpg', 'files/100.jpg', 'files/500.jpg']\n",
    "\n",
    "for i in range(0, len(training_set)):\n",
    "\t# train image\n",
    "\ttrain_img = cv2.imread(training_set[i])\n",
    "\n",
    "\t(kp2, des2) = orb.detectAndCompute(train_img, None)\n",
    "\n",
    "\t# brute force matcher\n",
    "\tbf = cv2.BFMatcher()\n",
    "\tall_matches = bf.knnMatch(des1, des2, k=2)\n",
    "\n",
    "\tgood = []\n",
    "\t# give an arbitrary number -> 0.789\n",
    "\t# if good -> append to list of good matches\n",
    "\tfor (m, n) in all_matches:\n",
    "\t\tif m.distance < 0.789 * n.distance:\n",
    "\t\t\tgood.append([m])\n",
    "\n",
    "\tif len(good) > max_val:\n",
    "\t\tmax_val = len(good)\n",
    "\t\tmax_pt = i\n",
    "\t\tmax_kp = kp2\n",
    "\n",
    "\tprint(i, ' ', training_set[i], ' ', len(good))\n",
    "\n",
    "if max_val != 8:\n",
    "\tprint(training_set[max_pt])\n",
    "\tprint('good matches ', max_val)\n",
    "\n",
    "\ttrain_img = cv2.imread(training_set[max_pt])\n",
    "\timg3 = cv2.drawMatchesKnn(test_img, kp1, train_img, max_kp, good, 4)\n",
    "\n",
    "\tnote = str(training_set[max_pt])[6:-4]\n",
    "\tprint('\\nDetected denomination: Rs. ', note)\n",
    "\n",
    "\t# audio_file = 'audio/{}.mp3'.format(note)\n",
    "\t#audio_file = \"value.mp3\"\n",
    "\t#tts = gTTS(text=speech_out, lang=\"en\")\n",
    "\t#tts.save(audio_file)\n",
    "\t#return_code = subprocess.call([\"afplay\", audio_file])\n",
    "\t#playsound(audio_file)\n",
    "\t(plt.imshow(img3), plt.show())\n",
    "\n",
    "else:\n",
    "\tprint('No Matches')\n"
   ]
  },
  {
   "cell_type": "code",
   "execution_count": null,
   "metadata": {},
   "outputs": [],
   "source": []
  }
 ],
 "metadata": {
  "kernelspec": {
   "display_name": "Python 3",
   "language": "python",
   "name": "python3"
  },
  "language_info": {
   "codemirror_mode": {
    "name": "ipython",
    "version": 3
   },
   "file_extension": ".py",
   "mimetype": "text/x-python",
   "name": "python",
   "nbconvert_exporter": "python",
   "pygments_lexer": "ipython3",
   "version": "3.7.1"
  }
 },
 "nbformat": 4,
 "nbformat_minor": 2
}
